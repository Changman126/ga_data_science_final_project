{
 "cells": [
  {
   "cell_type": "markdown",
   "metadata": {},
   "source": [
    "# Modeling the 2016 US Presidential Election using Logistic Regression"
   ]
  },
  {
   "cell_type": "markdown",
   "metadata": {},
   "source": [
    "## Loading the data:"
   ]
  },
  {
   "cell_type": "code",
   "execution_count": 3,
   "metadata": {
    "collapsed": false
   },
   "outputs": [],
   "source": [
    "import pandas as pd\n",
    "\n",
    "census_data = pd.read_csv('combined_data.csv')\n",
    "\n",
    "feature_cols = ['BLACK_FEMALE_rate', \n",
    "                'BLACK_MALE_rate',\n",
    "                'Percent of adults with a bachelor\\'s degree or higher, 2010-2014',\n",
    "                'ASIAN_MALE_rate',\n",
    "                'ASIAN_FEMALE_rate',\n",
    "                '25-29_rate',\n",
    "                'age_total_pop',\n",
    "                '20-24_rate',\n",
    "                'Deep_Pov_All',\n",
    "                '30-34_rate',\n",
    "                'Density per square mile of land area - Population',\n",
    "                'Density per square mile of land area - Housing units',\n",
    "                'Unemployment_rate_2015',\n",
    "                'Deep_Pov_Children',\n",
    "                'PovertyAllAgesPct2014',\n",
    "                'TOT_FEMALE_rate',\n",
    "                'PerCapitaInc',\n",
    "                'MULTI_FEMALE_rate',\n",
    "                '35-39_rate',\n",
    "                'MULTI_MALE_rate',\n",
    "                'Percent of adults completing some college or associate\\'s degree, 2010-2014',\n",
    "                '60-64_rate',\n",
    "                '55-59_rate',\n",
    "                '65-69_rate',\n",
    "                'TOT_MALE_rate',\n",
    "                '85+_rate',\n",
    "                '70-74_rate',\n",
    "                '80-84_rate',\n",
    "                '75-79_rate',\n",
    "                'Percent of adults with a high school diploma only, 2010-2014',\n",
    "                'WHITE_FEMALE_rate',\n",
    "                'WHITE_MALE_rate',\n",
    "                'Amish',\n",
    "                'Buddhist',\n",
    "                'Catholic',\n",
    "                'Christian Generic',\n",
    "                'Eastern Orthodox',\n",
    "                'Hindu',\n",
    "                'Jewish',\n",
    "                'Mainline Christian',\n",
    "                'Mormon',\n",
    "                'Muslim',\n",
    "                'Non-Catholic Christian',\n",
    "                'Other',\n",
    "                'Other Christian',\n",
    "                'Other Misc',\n",
    "                'Pentecostal / Charismatic',\n",
    "                'Protestant Denomination',\n",
    "                'Zoroastrian']\n",
    "\n",
    "X = census_data[feature_cols]\n",
    "y = census_data['Democrat']"
   ]
  },
  {
   "cell_type": "markdown",
   "metadata": {},
   "source": [
    "## K-folds cross-validation:"
   ]
  },
  {
   "cell_type": "code",
   "execution_count": 8,
   "metadata": {
    "collapsed": false
   },
   "outputs": [
    {
     "name": "stdout",
     "output_type": "stream",
     "text": [
      "0.901302848066\n"
     ]
    }
   ],
   "source": [
    "# import the class\n",
    "from sklearn.linear_model import LogisticRegression\n",
    "\n",
    "# set the predictor and target variables\n",
    "X = census_data[feature_cols]\n",
    "y = census_data['Democrat']\n",
    "\n",
    "# instantiate the model (using the default parameters)\n",
    "logreg = LogisticRegression()\n",
    "\n",
    "# fit the model with data\n",
    "logreg.fit(X, y)\n",
    "\n",
    "# test accuracy of the model using 10-fold cross-validation\n",
    "scores = cross_val_score(logreg, X, y, cv=20, scoring='accuracy')\n",
    "print(scores.mean())\n"
   ]
  },
  {
   "cell_type": "markdown",
   "metadata": {},
   "source": [
    "## View predictions and coefficients of each feature:"
   ]
  },
  {
   "cell_type": "code",
   "execution_count": 27,
   "metadata": {
    "collapsed": false
   },
   "outputs": [
    {
     "name": "stdout",
     "output_type": "stream",
     "text": [
      "[('BLACK_FEMALE_rate', 0.0078229309381132022), ('BLACK_MALE_rate', 0.0069043382714705859), (\"Percent of adults with a bachelor's degree or higher, 2010-2014\", 0.091172051942494059), ('ASIAN_MALE_rate', 0.00023539680415206711), ('ASIAN_FEMALE_rate', 0.0002870191125736659), ('25-29_rate', 0.00029004555631667703), ('age_total_pop', 6.0168087716794342e-07), ('20-24_rate', 5.1489211275486853e-05), ('Deep_Pov_All', 0.036246629158976897), ('30-34_rate', 0.00018329014068936507), ('Density per square mile of land area - Population', 7.6752781320599798e-05), ('Density per square mile of land area - Housing units', 0.002263385952343943), ('Unemployment_rate_2015', 0.052265257048178658), ('Deep_Pov_Children', 0.087733488496808093), ('PovertyAllAgesPct2014', 0.10247151670571386), ('TOT_FEMALE_rate', 0.00019044206485666377), ('PerCapitaInc', -2.6587756477380128e-05), ('MULTI_FEMALE_rate', 7.3127897730474207e-05), ('35-39_rate', 6.9788966925406215e-05), ('MULTI_MALE_rate', 7.0184134117694954e-05), (\"Percent of adults completing some college or associate's degree, 2010-2014\", -0.074530368762084756), ('60-64_rate', 7.0284326235127745e-05), ('55-59_rate', 9.1494047823582742e-05), ('65-69_rate', -0.00014814583639497452), ('TOT_MALE_rate', -0.00086272988131627637), ('85+_rate', -8.5405088746710989e-05), ('70-74_rate', -0.00029067525818994024), ('80-84_rate', -0.00019187632572524797), ('75-79_rate', -0.00029661697707517119), ('Percent of adults with a high school diploma only, 2010-2014', -0.11385294979448911), ('WHITE_FEMALE_rate', -0.0078805566982639869), ('WHITE_MALE_rate', -0.0079237973503964408), ('Amish', 0.005052236359561018), ('Buddhist', 0.0096174148573611937), ('Catholic', 0.00065308275979769626), ('Christian Generic', -0.0098738883443169109), ('Eastern Orthodox', 0.010184007077212259), ('Hindu', -0.019634055857710078), ('Jewish', -0.0093968537656152623), ('Mainline Christian', 0.0075781246077263539), ('Mormon', -0.02470006322236205), ('Muslim', -0.012268204413893166), ('Non-Catholic Christian', 0.0054755358186202681), ('Other', 0.019419098783797856), ('Other Christian', -0.0048078953223441735), ('Other Misc', 0.010519295832191746), ('Pentecostal / Charismatic', -0.00079086305717352898), ('Protestant Denomination', 0.021917931770484005), ('Zoroastrian', 0.0)]\n"
     ]
    }
   ],
   "source": [
    "# print logistic regression coefficients of each feature\n",
    "coef = logreg.coef_[0]\n",
    "zipped = zip(feature_cols, coef)\n",
    "\n",
    "print zipped\n",
    "\n",
    "# predict the response for new observations\n",
    "\n",
    "census_data['prediction'] = logreg.predict(X)\n",
    "census_data.to_csv('census_data_with_predictions.csv')"
   ]
  }
 ],
 "metadata": {
  "kernelspec": {
   "display_name": "Python 2",
   "language": "python",
   "name": "python2"
  },
  "language_info": {
   "codemirror_mode": {
    "name": "ipython",
    "version": 2
   },
   "file_extension": ".py",
   "mimetype": "text/x-python",
   "name": "python",
   "nbconvert_exporter": "python",
   "pygments_lexer": "ipython2",
   "version": "2.7.12"
  }
 },
 "nbformat": 4,
 "nbformat_minor": 1
}
