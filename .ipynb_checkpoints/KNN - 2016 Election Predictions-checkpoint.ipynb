{
 "cells": [
  {
   "cell_type": "markdown",
   "metadata": {},
   "source": [
    "# Modeling the 2016 US Presidential Election using K-nearest Neighbors"
   ]
  },
  {
   "cell_type": "markdown",
   "metadata": {},
   "source": [
    "*Method inspired by [Introduction to machine learning with scikit-learn](https://github.com/justmarkham/scikit-learn-videos)*"
   ]
  },
  {
   "cell_type": "markdown",
   "metadata": {},
   "source": [
    "## Loading the data:"
   ]
  },
  {
   "cell_type": "code",
   "execution_count": 1,
   "metadata": {
    "collapsed": false
   },
   "outputs": [],
   "source": [
    "import pandas as pd\n",
    "\n",
    "census_data = pd.read_csv('combined_data.csv')\n",
    "\n",
    "feature_cols = ['BLACK_FEMALE_rate', \n",
    "                'BLACK_MALE_rate',\n",
    "                'Percent of adults with a bachelor\\'s degree or higher, 2010-2014',\n",
    "                'ASIAN_MALE_rate',\n",
    "                'ASIAN_FEMALE_rate',\n",
    "                '25-29_rate',\n",
    "                'age_total_pop',\n",
    "                '20-24_rate',\n",
    "                'Deep_Pov_All',\n",
    "                '30-34_rate',\n",
    "                'Density per square mile of land area - Population',\n",
    "                'Density per square mile of land area - Housing units',\n",
    "                'Unemployment_rate_2015',\n",
    "                'Deep_Pov_Children',\n",
    "                'PovertyAllAgesPct2014',\n",
    "                'TOT_FEMALE_rate',\n",
    "                'PerCapitaInc',\n",
    "                'MULTI_FEMALE_rate',\n",
    "                '35-39_rate',\n",
    "                'MULTI_MALE_rate',\n",
    "                'Percent of adults completing some college or associate\\'s degree, 2010-2014',\n",
    "                '60-64_rate',\n",
    "                '55-59_rate',\n",
    "                '65-69_rate',\n",
    "                'TOT_MALE_rate',\n",
    "                '85+_rate',\n",
    "                '70-74_rate',\n",
    "                '80-84_rate',\n",
    "                '75-79_rate',\n",
    "                'Percent of adults with a high school diploma only, 2010-2014',\n",
    "                'WHITE_FEMALE_rate',\n",
    "                'WHITE_MALE_rate',\n",
    "                'Amish',\n",
    "                'Buddhist',\n",
    "                'Catholic',\n",
    "                'Christian Generic',\n",
    "                'Eastern Orthodox',\n",
    "                'Hindu',\n",
    "                'Jewish',\n",
    "                'Mainline Christian',\n",
    "                'Mormon',\n",
    "                'Muslim',\n",
    "                'Non-Catholic Christian',\n",
    "                'Other',\n",
    "                'Other Christian',\n",
    "                'Other Misc',\n",
    "                'Pentecostal / Charismatic',\n",
    "                'Protestant Denomination',\n",
    "                'Zoroastrian'\n",
    "               ]\n",
    "\n",
    "X = census_data[feature_cols]\n",
    "y = census_data['Democrat']"
   ]
  },
  {
   "cell_type": "markdown",
   "metadata": {},
   "source": [
    "## Hyperparameter Optimization:"
   ]
  },
  {
   "cell_type": "markdown",
   "metadata": {},
   "source": [
    "### Tuning single parameters with cross_val_score:\n",
    "\n",
    "The code below runs 10-fold cross-validation for each value K (for KNN) from 1 to 40. The average score for each value is calculated and printed below."
   ]
  },
  {
   "cell_type": "code",
   "execution_count": 2,
   "metadata": {
    "collapsed": false
   },
   "outputs": [
    {
     "name": "stderr",
     "output_type": "stream",
     "text": [
      "/Library/Frameworks/Python.framework/Versions/2.7/lib/python2.7/site-packages/sklearn/cross_validation.py:44: DeprecationWarning: This module was deprecated in version 0.18 in favor of the model_selection module into which all the refactored classes and functions are moved. Also note that the interface of the new CV iterators are different from that of this module. This module will be removed in 0.20.\n",
      "  \"This module will be removed in 0.20.\", DeprecationWarning)\n"
     ]
    },
    {
     "name": "stdout",
     "output_type": "stream",
     "text": [
      "[0.82899313562004162, 0.86209690717262544, 0.85757767307891775, 0.8685309402418625, 0.86305843233625601, 0.86916265069853904, 0.86177121481706076, 0.86787232146894, 0.87012314527432255, 0.8678743892935884, 0.87012108409862798, 0.86818663081550762, 0.87268621060162399, 0.8710795174987167, 0.87204208654810245, 0.87043746126984389, 0.87332517506695484, 0.87429084917779032, 0.87429084917779032, 0.87332517506695484, 0.87557599222338356, 0.87525754722751914, 0.87461342317399782, 0.87365291530030653, 0.87396929912047638, 0.87397343476977341, 0.87493704105596026, 0.8742949781781334, 0.87397136694512478, 0.87333343971659494, 0.87300982848358633, 0.87269448190021781, 0.8723667350179124, 0.87236983343040797, 0.87140519655637383, 0.87044365809483537, 0.87044159027018675, 0.86883798893082154, 0.87044055303338563, 0.87012314527432255]\n"
     ]
    }
   ],
   "source": [
    "from sklearn.cross_validation import cross_val_score\n",
    "from sklearn.neighbors import KNeighborsClassifier\n",
    "\n",
    "# search for an optimal value of K for KNN\n",
    "k_range = list(range(1, 41))\n",
    "k_scores = []\n",
    "for k in k_range:\n",
    "    knn = KNeighborsClassifier(n_neighbors=k)\n",
    "    scores = cross_val_score(knn, X, y, cv=10, scoring='accuracy')\n",
    "    k_scores.append(scores.mean())\n",
    "print(k_scores)"
   ]
  },
  {
   "cell_type": "markdown",
   "metadata": {},
   "source": [
    "For ease of interpretation, we plot the accuracy scores for each value of K. We see that 21 yields the highest out-of-sample accuracy:"
   ]
  },
  {
   "cell_type": "code",
   "execution_count": 3,
   "metadata": {
    "collapsed": false
   },
   "outputs": [
    {
     "data": {
      "text/plain": [
       "<matplotlib.text.Text at 0x10ba0f490>"
      ]
     },
     "execution_count": 3,
     "metadata": {},
     "output_type": "execute_result"
    },
    {
     "data": {
      "image/png": "[encoded data removed]",
      "text/plain": [
       "<matplotlib.figure.Figure at 0x10adca750>"
      ]
     },
     "metadata": {},
     "output_type": "display_data"
    }
   ],
   "source": [
    "import matplotlib.pyplot as plt\n",
    "%matplotlib inline\n",
    "\n",
    "# plot the value of K for KNN (x-axis) versus the cross-validated accuracy (y-axis)\n",
    "plt.plot(k_range, k_scores)\n",
    "plt.xlabel('Value of K for KNN')\n",
    "plt.ylabel('Cross-Validated Accuracy')"
   ]
  },
  {
   "cell_type": "markdown",
   "metadata": {},
   "source": [
    "### Tuning multiple parameters with GridSearchCV\n",
    "\n",
    "GridSearchCV allows us to perform the same cross-validation testing with multiple parameters at once. Below, we find the optimal combination of K value (for KNN) and leaf_size:"
   ]
  },
  {
   "cell_type": "code",
   "execution_count": null,
   "metadata": {
    "collapsed": false
   },
   "outputs": [
    {
     "name": "stderr",
     "output_type": "stream",
     "text": [
      "/Library/Frameworks/Python.framework/Versions/2.7/lib/python2.7/site-packages/sklearn/grid_search.py:43: DeprecationWarning: This module was deprecated in version 0.18 in favor of the model_selection module into which all the refactored classes and functions are moved. This module will be removed in 0.20.\n",
      "  DeprecationWarning)\n"
     ]
    }
   ],
   "source": [
    "from sklearn.grid_search import GridSearchCV\n",
    "\n",
    "# define the parameter values that should be searched\n",
    "k_range = list(range(1, 41))\n",
    "leaf_size_range = list(range(20, 50))\n",
    "\n",
    "param_grid = dict(n_neighbors=k_range, leaf_size=leaf_size_range)\n",
    "grid = GridSearchCV(knn, param_grid, cv=10, scoring='accuracy')\n",
    "grid.fit(X, y)\n",
    "grid_mean_scores = [result.mean_validation_score for result in grid.grid_scores_]\n",
    "\n",
    "print(grid.best_score_)\n",
    "print(grid.best_params_)\n",
    "print(grid.best_estimator_)"
   ]
  },
  {
   "cell_type": "markdown",
   "metadata": {},
   "source": [
    "## K-folds cross-validation:\n",
    "\n",
    "Using the optimal hyper parameters found in the previous steps, we can calcluate the average out-of-sample accuracy for KNN. We find that KNN produces a model with predictions that are ~87.5% accurate."
   ]
  },
  {
   "cell_type": "code",
   "execution_count": 14,
   "metadata": {
    "collapsed": false
   },
   "outputs": [
    {
     "name": "stdout",
     "output_type": "stream",
     "text": [
      "0.80230537804\n"
     ]
    }
   ],
   "source": [
    "# 10-fold cross-validation with K=31 for KNN\n",
    "knn = KNeighborsClassifier(n_neighbors=21, leaf_size=20)\n",
    "scores = cross_val_score(knn, X, y, cv=10, scoring='roc_auc')\n",
    "\n",
    "print(scores.mean())"
   ]
  }
 ],
 "metadata": {
  "kernelspec": {
   "display_name": "Python 2",
   "language": "python",
   "name": "python2"
  },
  "language_info": {
   "codemirror_mode": {
    "name": "ipython",
    "version": 2
   },
   "file_extension": ".py",
   "mimetype": "text/x-python",
   "name": "python",
   "nbconvert_exporter": "python",
   "pygments_lexer": "ipython2",
   "version": "2.7.12"
  }
 },
 "nbformat": 4,
 "nbformat_minor": 1
}
